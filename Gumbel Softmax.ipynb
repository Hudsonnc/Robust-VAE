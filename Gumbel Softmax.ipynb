{
 "cells": [
  {
   "cell_type": "code",
   "execution_count": 1,
   "metadata": {
    "collapsed": true
   },
   "outputs": [],
   "source": [
    "import numpy as np\n",
    "from matplotlib import pyplot as plt\n",
    "%matplotlib inline"
   ]
  },
  {
   "cell_type": "code",
   "execution_count": 36,
   "metadata": {
    "collapsed": true
   },
   "outputs": [],
   "source": [
    "def softmax(x):\n",
    "    exp = [np.e**(xi) for xi in x]\n",
    "    return(exp/np.sum(exp))"
   ]
  },
  {
   "cell_type": "code",
   "execution_count": 49,
   "metadata": {},
   "outputs": [],
   "source": [
    "def gumbel_soft(pi, tau=1):\n",
    "    n = len(pi)\n",
    "    g = np.random.gumbel(size=n)\n",
    "    logit = np.log(pi)\n",
    "    y = softmax((g+logit)/tau)\n",
    "    return(y)"
   ]
  },
  {
   "cell_type": "code",
   "execution_count": 59,
   "metadata": {},
   "outputs": [],
   "source": [
    "def gumbel_bernoulli(p, n, tau=1):\n",
    "    return([gumbel_soft([p, 1-p], tau)[0] for i in range(n)])"
   ]
  },
  {
   "cell_type": "code",
   "execution_count": 92,
   "metadata": {},
   "outputs": [
    {
     "data": {
      "text/plain": [
       "5.4968194710290552"
      ]
     },
     "execution_count": 92,
     "metadata": {},
     "output_type": "execute_result"
    }
   ],
   "source": [
    "np.linalg.norm(gumbel_bernoulli(.05, 100, .1), ord=1)"
   ]
  },
  {
   "cell_type": "code",
   "execution_count": 93,
   "metadata": {},
   "outputs": [
    {
     "data": {
      "text/plain": [
       "2.0864124999242351"
      ]
     },
     "execution_count": 93,
     "metadata": {},
     "output_type": "execute_result"
    }
   ],
   "source": [
    "np.linalg.norm(gumbel_bernoulli(.05, 100, .1), ord=2)"
   ]
  },
  {
   "cell_type": "code",
   "execution_count": 94,
   "metadata": {},
   "outputs": [
    {
     "data": {
      "text/plain": [
       "100.0"
      ]
     },
     "execution_count": 94,
     "metadata": {},
     "output_type": "execute_result"
    }
   ],
   "source": [
    "np.linalg.norm(gumbel_bernoulli(.05, 100, .1), ord=0)"
   ]
  },
  {
   "cell_type": "code",
   "execution_count": 98,
   "metadata": {},
   "outputs": [
    {
     "data": {
      "text/plain": [
       "(array([ 44.,   4.,   3.,   0.,   2.,   1.,   0.,   4.,   6.,  36.]),\n",
       " array([  3.05144060e-23,   1.00000000e-01,   2.00000000e-01,\n",
       "          3.00000000e-01,   4.00000000e-01,   5.00000000e-01,\n",
       "          6.00000000e-01,   7.00000000e-01,   8.00000000e-01,\n",
       "          9.00000000e-01,   1.00000000e+00]),\n",
       " <a list of 10 Patch objects>)"
      ]
     },
     "execution_count": 98,
     "metadata": {},
     "output_type": "execute_result"
    },
    {
     "data": {
      "image/png": "[encoded data removed]",
      "text/plain": [
       "<matplotlib.figure.Figure at 0x7f61bbf826a0>"
      ]
     },
     "metadata": {},
     "output_type": "display_data"
    }
   ],
   "source": [
    "plt.hist(gumbel_bernoulli(.5, 100, .1))"
   ]
  },
  {
   "cell_type": "code",
   "execution_count": 97,
   "metadata": {},
   "outputs": [
    {
     "data": {
      "text/plain": [
       "<matplotlib.collections.PathCollection at 0x7f61bbff32b0>"
      ]
     },
     "execution_count": 97,
     "metadata": {},
     "output_type": "execute_result"
    },
    {
     "data": {
      "image/png": "[encoded data removed]",
      "text/plain": [
       "<matplotlib.figure.Figure at 0x7f61bc071518>"
      ]
     },
     "metadata": {},
     "output_type": "display_data"
    }
   ],
   "source": [
    "plt.scatter(range(100), gumbel_bernoulli(.5, 100, .1))"
   ]
  },
  {
   "cell_type": "code",
   "execution_count": null,
   "metadata": {
    "collapsed": true
   },
   "outputs": [],
   "source": [
    "def additive_smoothing(x):\n",
    "    "
   ]
  },
  {
   "cell_type": "code",
   "execution_count": 101,
   "metadata": {
    "collapsed": true
   },
   "outputs": [],
   "source": [
    "def KL_bernoulli(x, p):\n",
    "    q = np.mean(x)\n",
    "    kl = -(q*np.log(q/p) + (1-q)*np.log((1-q)/(1-p)))\n",
    "    return(kl)"
   ]
  },
  {
   "cell_type": "code",
   "execution_count": 146,
   "metadata": {},
   "outputs": [
    {
     "name": "stdout",
     "output_type": "stream",
     "text": [
      "0.56822591834\n",
      "-0.00933865844682\n"
     ]
    }
   ],
   "source": [
    "n = 100\n",
    "p = .5\n",
    "tau = .1\n",
    "x = gumbel_bernoulli(p, n, tau)\n",
    "q = np.mean(x)\n",
    "print(q)\n",
    "print(KL_bernoulli(x, p))"
   ]
  }
 ],
 "metadata": {
  "kernelspec": {
   "display_name": "Python [conda env:tensorflow]",
   "language": "python",
   "name": "conda-env-tensorflow-py"
  },
  "language_info": {
   "codemirror_mode": {
    "name": "ipython",
    "version": 3
   },
   "file_extension": ".py",
   "mimetype": "text/x-python",
   "name": "python",
   "nbconvert_exporter": "python",
   "pygments_lexer": "ipython3",
   "version": "3.6.1"
  }
 },
 "nbformat": 4,
 "nbformat_minor": 2
}
